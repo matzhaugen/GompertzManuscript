{
 "cells": [
  {
   "cell_type": "code",
   "execution_count": null,
   "id": "f5fe3d83",
   "metadata": {},
   "outputs": [],
   "source": [
    "import numpy as np\n",
    "import matplotlib.pylab as plt\n",
    "from scipy.stats import gmean\n",
    "from collections import defaultdict"
   ]
  },
  {
   "cell_type": "code",
   "execution_count": null,
   "id": "cff6df84",
   "metadata": {},
   "outputs": [],
   "source": [
    "def f(x, a=1.99):\n",
    "    return np.abs(1 - a*np.power(x, 2))\n",
    "\n",
    "def g(x, eps=0.1, a=1.99):\n",
    "    return (1-eps)*f(x) + eps * np.mean(f(x))\n",
    "\n",
    "def ggeo(x, eps=0.1, a=1.99):\n",
    "    x = np.abs(x)\n",
    "    return (1-eps)*f(x) + eps * gmean(f(x))\n",
    "def get_msd(x):\n",
    "    np.mean(np.power(x, 2)) - np.power(np.mean(x), 2)"
   ]
  },
  {
   "cell_type": "code",
   "execution_count": null,
   "id": "fcdd9f22",
   "metadata": {},
   "outputs": [],
   "source": [
    "Ns = [40, 100, 400, 1000, 4000, 10000]\n",
    "msd = []\n",
    "msdgeo = []\n",
    "h = defaultdict(list)\n",
    "hgeo = defaultdict(list)\n",
    "for N in Ns:\n",
    "    x0 = np.abs(np.random.normal(size=N, loc=0.5, scale=0.1))\n",
    "    x = x0\n",
    "    for i in range(100000):\n",
    "        x = ggeo(x)\n",
    "        if i > 10000:\n",
    "            h[N].append(np.mean(f(x)))\n",
    "            hgeo[N].append(gmean(f(x)))\n",
    "\n",
    "    msd.append(get_msd(h[N]))\n",
    "    msdgeo.append(get_msd(hgeo[N]))"
   ]
  },
  {
   "cell_type": "code",
   "execution_count": null,
   "id": "4faa6d82",
   "metadata": {},
   "outputs": [],
   "source": [
    "for N in Ns:\n",
    "    hi = np.histogram(hgeo[N], bins=100)\n",
    "    plt.plot(hi[1][:-1], hi[0], label=N)\n",
    "    \n",
    "plt.legend()"
   ]
  },
  {
   "cell_type": "code",
   "execution_count": null,
   "id": "6af5fcf3",
   "metadata": {},
   "outputs": [],
   "source": [
    "for N in Ns:\n",
    "    hi = np.histogram(h[N], bins=100)\n",
    "    plt.plot(hi[1][:-1], hi[0], label=N)\n",
    "    \n",
    "plt.legend()"
   ]
  },
  {
   "cell_type": "code",
   "execution_count": null,
   "id": "afa1674a",
   "metadata": {},
   "outputs": [],
   "source": [
    "\n",
    "plt.plot(Ns, msd, \"x\")\n",
    "plt.plot(Ns, msdgeo, \"o\")\n",
    "plt.xscale(\"log\")\n",
    "plt.yscale(\"log\")\n",
    "plt.ylim([1e-5, 1])"
   ]
  },
  {
   "cell_type": "code",
   "execution_count": null,
   "id": "7f977a98",
   "metadata": {},
   "outputs": [],
   "source": [
    "msd"
   ]
  },
  {
   "cell_type": "code",
   "execution_count": null,
   "id": "c37a7525",
   "metadata": {},
   "outputs": [],
   "source": []
  }
 ],
 "metadata": {
  "kernelspec": {
   "display_name": "Python 3",
   "language": "python",
   "name": "python3"
  },
  "language_info": {
   "codemirror_mode": {
    "name": "ipython",
    "version": 3
   },
   "file_extension": ".py",
   "mimetype": "text/x-python",
   "name": "python",
   "nbconvert_exporter": "python",
   "pygments_lexer": "ipython3",
   "version": "3.9.4"
  }
 },
 "nbformat": 4,
 "nbformat_minor": 5
}
