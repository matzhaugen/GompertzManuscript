{
 "cells": [
  {
   "cell_type": "code",
   "execution_count": null,
   "id": "4cd3c6ba-068b-48c1-bbaa-ecc88bf2c2a6",
   "metadata": {},
   "outputs": [],
   "source": [
    "import numpy as np\n",
    "import matplotlib.pylab as plt"
   ]
  },
  {
   "cell_type": "code",
   "execution_count": null,
   "id": "45d5944e-cd9c-4d9c-992a-658e8a9ee8fb",
   "metadata": {},
   "outputs": [],
   "source": [
    "t = np.arange(90)/10"
   ]
  },
  {
   "cell_type": "code",
   "execution_count": null,
   "id": "0983f593-1aad-4aca-8013-cfcb7158fd3e",
   "metadata": {},
   "outputs": [],
   "source": [
    "\n",
    "\n",
    "def g(t, a=-9.21):\n",
    "    return np.exp(a*np.exp(-t))\n",
    "def inverse_g(t, a=-0.0001):\n",
    "    return 1 - np.exp(a*np.exp(t)) "
   ]
  },
  {
   "cell_type": "code",
   "execution_count": null,
   "id": "21366991-c280-4436-be2e-5c38136d93be",
   "metadata": {},
   "outputs": [],
   "source": [
    "a_rev_gomp = np.log(1 - 0.001)\n",
    "a_gomp = np.log(0.001)\n",
    "print(g(0, a=a_gomp))\n",
    "inverse_g(0, a=a_rev_gomp)"
   ]
  },
  {
   "cell_type": "code",
   "execution_count": null,
   "id": "25b1d26a-1504-44b9-8417-adb3d260296b",
   "metadata": {},
   "outputs": [],
   "source": [
    "x = inverse_g(t, a_rev_gomp)\n",
    "y = g(t, a_gomp)\n",
    "plt.plot(t, x, label=\"Reversed Gompertz\")\n",
    "plt.plot(t[1:], np.diff(np.log(x)), label=\"Rev. Gomp (relative growth rate)\")\n",
    "plt.plot(t, y, label=\"Gompertz\")\n",
    "plt.plot(t[1:], np.diff(np.log(y)), label=\"Gomp. (relative growth rate)\")\n",
    "plt.legend()\n",
    "plt.savefig(\"../figures/causality_reversal.pdf\")"
   ]
  },
  {
   "cell_type": "code",
   "execution_count": null,
   "id": "9a937e3f-965f-4772-a135-f27c37ec888e",
   "metadata": {},
   "outputs": [],
   "source": [
    "x = inverse_g(t, a_rev_gomp)\n",
    "y = g(t, a_gomp)\n",
    "plt.plot(t, x, label=\"Reversed Gompertz\")\n",
    "plt.plot(t[1:], np.diff(np.log(x)), label=\"Rev. Gomp (relative growth rate)\")\n",
    "plt.plot(t, y, label=\"Gompertz\")\n",
    "plt.plot(t[1:], np.diff(np.log(y)), label=\"Gomp. (relative growth rate)\")\n",
    "ax = plt.gca()\n",
    "plt.legend()\n",
    "plt.xlim((0,9))\n",
    "ax.set_yscale('log')\n",
    "plt.savefig(\"../figures/causality_reversal_logy.pdf\")"
   ]
  },
  {
   "cell_type": "code",
   "execution_count": null,
   "id": "e8cc91c2-5af0-4b31-b133-fcd7a7f3fb03",
   "metadata": {},
   "outputs": [],
   "source": [
    "x = g(t)\n",
    "\n",
    "plt.plot(t[1:], np.diff(np.log(x)))"
   ]
  },
  {
   "cell_type": "code",
   "execution_count": null,
   "id": "ea83f569-d7de-4886-8b7d-24b58fd30d3b",
   "metadata": {},
   "outputs": [],
   "source": []
  }
 ],
 "metadata": {
  "kernelspec": {
   "display_name": "Python 3 (ipykernel)",
   "language": "python",
   "name": "python3"
  },
  "language_info": {
   "codemirror_mode": {
    "name": "ipython",
    "version": 3
   },
   "file_extension": ".py",
   "mimetype": "text/x-python",
   "name": "python",
   "nbconvert_exporter": "python",
   "pygments_lexer": "ipython3",
   "version": "3.9.5"
  }
 },
 "nbformat": 4,
 "nbformat_minor": 5
}
