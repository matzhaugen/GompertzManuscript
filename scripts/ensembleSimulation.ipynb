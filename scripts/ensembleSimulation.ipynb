{
 "cells": [
  {
   "cell_type": "code",
   "execution_count": null,
   "id": "f37c4f77-4d29-4df3-87e1-05d0e69e14cf",
   "metadata": {},
   "outputs": [],
   "source": [
    "import scipy.optimize as spo\n",
    "from scipy import integrate\n",
    "import numpy as np\n",
    "\n",
    "\n",
    "def gomp_i(t, x):\n",
    "    return x * (1- np.roll(x, 1))\n",
    "\n",
    "def func(t, x0):\n",
    "    tmax = np.max(t)\n",
    "    \n",
    "    obj = integrate.solve_ivp(gomp_i, (0, tmax), (x0,), \n",
    "                              t_eval=np.arange(tmax + 1))\n",
    "    "
   ]
  },
  {
   "cell_type": "code",
   "execution_count": null,
   "id": "6f23b483-e649-423a-8878-341f7b4cf0cd",
   "metadata": {},
   "outputs": [],
   "source": [
    "from scipy.stats import beta\n",
    "rv = beta(a=3, b=20)\n",
    "import matplotlib.pylab as plt\n",
    "x = rv.rvs(10)\n",
    "plt.hist(x)"
   ]
  },
  {
   "cell_type": "code",
   "execution_count": null,
   "id": "fb7af418-a721-4efc-b96a-d47d29788833",
   "metadata": {},
   "outputs": [],
   "source": [
    "x0 = x\n",
    "obj = integrate.solve_ivp(gomp_i, (0, 20), x0, t_eval=np.arange(20))\n",
    "obj"
   ]
  },
  {
   "cell_type": "code",
   "execution_count": null,
   "id": "3ff1710c-f6e3-491f-8bc2-1077d104d024",
   "metadata": {},
   "outputs": [],
   "source": [
    "for ts in obj[\"y\"]:\n",
    "    plt.plot(ts)"
   ]
  },
  {
   "cell_type": "code",
   "execution_count": null,
   "id": "15404f40-9dbd-47dc-8b9e-19d9a9c53aa1",
   "metadata": {},
   "outputs": [],
   "source": [
    "func(np.array([0,0.1]), t_span=(0,10), t_eval=(0, 1, 2))"
   ]
  },
  {
   "cell_type": "code",
   "execution_count": null,
   "id": "a1ce9d00-fd27-4e3c-b240-2629685d9dd4",
   "metadata": {},
   "outputs": [],
   "source": []
  }
 ],
 "metadata": {
  "kernelspec": {
   "display_name": "Python 3 (ipykernel)",
   "language": "python",
   "name": "python3"
  },
  "language_info": {
   "codemirror_mode": {
    "name": "ipython",
    "version": 3
   },
   "file_extension": ".py",
   "mimetype": "text/x-python",
   "name": "python",
   "nbconvert_exporter": "python",
   "pygments_lexer": "ipython3",
   "version": "3.9.5"
  }
 },
 "nbformat": 4,
 "nbformat_minor": 5
}
