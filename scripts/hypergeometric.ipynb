{
 "cells": [
  {
   "cell_type": "code",
   "execution_count": null,
   "id": "91dc60bc",
   "metadata": {},
   "outputs": [],
   "source": [
    "import numpy as np\n",
    "from scipy.special import hyp2f1\n",
    "import matplotlib.pylab as plt\n",
    "from numpy import log\n",
    "plt.rcParams.update({\n",
    "    \"text.usetex\": True,\n",
    "    \"font.family\": \"sans-serif\",\n",
    "    \"font.sans-serif\": [\"Helvetica\"]})"
   ]
  },
  {
   "cell_type": "code",
   "execution_count": null,
   "id": "2356643b",
   "metadata": {},
   "outputs": [],
   "source": [
    "x = np.linspace(0.01,0.99,100)\n",
    "\n",
    "def fn(x, n):\n",
    "    return - hyp2f1(1, n+1, n+2, 1-x)/(n+1) * np.power(1-x, n+1) - log(x)\n",
    "\n",
    "theta = 0.3\n",
    "plt.figure(figsize=(6,4))\n",
    "# plt.plot(x, (1 - np.power(x, theta)) / theta, label=\"Richard($$\\theta=0.3$$)\", linestyle=\"--\")\n",
    "# plt.plot(x, (1 - np.power(x, .5)) / .5, label=\"Richard($$\\theta=0.5$$)\", linestyle=\"--\")\n",
    "plt.plot(x, (1 - np.power(x, theta)) / theta, label=r\"Richards ($\\theta=0.3$)\", linestyle=\"--\")\n",
    "plt.plot(x, (1 - np.power(x, .5)) / .5, label=r\"Richards ($\\theta=0.5$)\", linestyle=\"--\")\n",
    "\n",
    "plt.plot(x, fn(x, 1), label=\"SIR (1 term)\")\n",
    "plt.plot(x, fn(x, 3), label=\"mod. SIR (3 terms)\")\n",
    "plt.plot(x, fn(x, 7), label=\"mod. SIR (7 terms)\")\n",
    "plt.plot(x, - log(x), label=\"Gompertz\", linestyle=\":\")\n",
    "plt.xlabel(\"Abundance [normalized]\")\n",
    "plt.ylabel(\"Relative Growth Rate [normalized]\")\n",
    "plt.legend()\n",
    "plt.savefig(\"../figures/hypergeometric.pdf\")"
   ]
  },
  {
   "cell_type": "code",
   "execution_count": null,
   "id": "0207caf1",
   "metadata": {},
   "outputs": [],
   "source": []
  }
 ],
 "metadata": {
  "kernelspec": {
   "display_name": "Python 3 (ipykernel)",
   "language": "python",
   "name": "python3"
  },
  "language_info": {
   "codemirror_mode": {
    "name": "ipython",
    "version": 3
   },
   "file_extension": ".py",
   "mimetype": "text/x-python",
   "name": "python",
   "nbconvert_exporter": "python",
   "pygments_lexer": "ipython3",
   "version": "3.9.5"
  }
 },
 "nbformat": 4,
 "nbformat_minor": 5
}
