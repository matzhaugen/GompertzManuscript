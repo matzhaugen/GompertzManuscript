{
 "cells": [
  {
   "cell_type": "code",
   "execution_count": null,
   "id": "91dc60bc",
   "metadata": {},
   "outputs": [],
   "source": [
    "import numpy as np\n",
    "from scipy.special import hyp2f1\n",
    "import matplotlib.pylab as plt\n",
    "from numpy import log"
   ]
  },
  {
   "cell_type": "code",
   "execution_count": null,
   "id": "2356643b",
   "metadata": {},
   "outputs": [],
   "source": [
    "x = np.linspace(0.01,0.99,100)"
   ]
  },
  {
   "cell_type": "code",
   "execution_count": null,
   "id": "262e3a3a",
   "metadata": {},
   "outputs": [],
   "source": [
    "def fn(x, n):\n",
    "    return - hyp2f1(1, n+1, n+2, 1-x)/(n+1) * np.power(1-x, n+1) - log(x)"
   ]
  },
  {
   "cell_type": "code",
   "execution_count": null,
   "id": "3700327c",
   "metadata": {},
   "outputs": [],
   "source": [
    "fn(x, 2)"
   ]
  },
  {
   "cell_type": "code",
   "execution_count": null,
   "id": "b67528d9",
   "metadata": {},
   "outputs": [],
   "source": [
    "theta = 0.3\n",
    "plt.figure(figsize=(4,4))\n",
    "plt.plot(x, (1 - np.power(x, theta)) / theta, label=\"Richard(0.3)\", linestyle=\"--\")\n",
    "plt.plot(x, (1 - np.power(x, .5)) / .5, label=\"Richard(0.5)\", linestyle=\"--\")\n",
    "plt.plot(x, fn(x, 1), label=\"1 term\")\n",
    "plt.plot(x, fn(x, 3), label=\"3 terms\")\n",
    "plt.plot(x, fn(x, 7), label=\"7 terms\")\n",
    "plt.plot(x, - log(x), label=\"Gompertz\", linestyle=\":\")\n",
    "plt.xlabel(\"Abundance [normalized]\")\n",
    "plt.ylabel(\"Relative Growth Rate [normalized]\")\n",
    "plt.legend()\n",
    "plt.savefig(\"../figures/hypergeometric.pdf\")"
   ]
  },
  {
   "cell_type": "code",
   "execution_count": null,
   "id": "0207caf1",
   "metadata": {},
   "outputs": [],
   "source": []
  }
 ],
 "metadata": {
  "kernelspec": {
   "display_name": "Python 3",
   "language": "python",
   "name": "python3"
  },
  "language_info": {
   "codemirror_mode": {
    "name": "ipython",
    "version": 3
   },
   "file_extension": ".py",
   "mimetype": "text/x-python",
   "name": "python",
   "nbconvert_exporter": "python",
   "pygments_lexer": "ipython3",
   "version": "3.9.4"
  }
 },
 "nbformat": 4,
 "nbformat_minor": 5
}
