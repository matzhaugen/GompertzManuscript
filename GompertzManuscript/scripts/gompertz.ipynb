{
 "cells": [
  {
   "cell_type": "code",
   "execution_count": null,
   "id": "bfddc7bf",
   "metadata": {},
   "outputs": [],
   "source": [
    "import numpy as np\n",
    "import matplotlib.pylab as plt\n",
    "import sys"
   ]
  },
  {
   "cell_type": "code",
   "execution_count": null,
   "id": "45f72a31",
   "metadata": {},
   "outputs": [],
   "source": [
    "x = np.arange(100) / 5"
   ]
  },
  {
   "cell_type": "code",
   "execution_count": null,
   "id": "de7626e2",
   "metadata": {},
   "outputs": [],
   "source": [
    "def g(a, b, k, x):\n",
    "    return k * np.maximum(np.exp(-np.exp((a - b * x))), 2/sys.float_info.max)\n",
    "def dg(a, b, k, x):\n",
    "    return g(a,b,k,x) * b / k * np.exp(a - b * x)\n",
    "def dsigmoid(x, a=10):\n",
    "    return np.exp(-(x - a)) / (1 + np.exp(-(x - a)))**2\n",
    "def sigmoid(x, a=10):\n",
    "    return 1 / (1 + np.exp(-(x - a)))\n",
    "# def sird(x, a=1):\n",
    "#     return 1 / (1 + np.exp(-(a*x)) - x)\n",
    "\n",
    "def th_sigmoid(x, x0=1, th=1):\n",
    "    xp = np.power(x0, th)\n",
    "    return np.power(xp / (xp + (1-xp) * np.exp(-th * x)), 1/th)"
   ]
  },
  {
   "cell_type": "code",
   "execution_count": null,
   "id": "012429b7",
   "metadata": {},
   "outputs": [],
   "source": [
    "a = 0\n",
    "b = 1\n",
    "a = 10\n",
    "k = 1\n",
    "plt.plot(x, g(a, b, k, x), label=\"Gompertz\")\n",
    "plt.plot(x, dg(a, b, k, x), label=\"d(Gompertz)\")\n",
    "plt.plot(x, sigmoid(x), label=\"Logistic\")\n",
    "plt.plot(x, dsigmoid(x), label=\"d(Logistic)\")\n",
    "plt.ylim([0, 0.5])\n",
    "plt.legend()"
   ]
  },
  {
   "cell_type": "code",
   "execution_count": null,
   "id": "0030b1ba",
   "metadata": {},
   "outputs": [],
   "source": [
    "import sys\n",
    "def safe_log(x):\n",
    "    x[np.isinf(x)] = sys.float_info.max - 1\n",
    "    return np.log(x)"
   ]
  },
  {
   "cell_type": "code",
   "execution_count": null,
   "id": "d2c3267f",
   "metadata": {},
   "outputs": [],
   "source": [
    "th_sigmoid(x, x0=0.0001, th=1)"
   ]
  },
  {
   "cell_type": "code",
   "execution_count": null,
   "id": "c64d11cb",
   "metadata": {},
   "outputs": [],
   "source": [
    "a = 7\n",
    "plt.plot(x, safe_log(safe_log(1/g(a, b, k, x))) + np.random.standard_normal(len(x))/2, \".\", label=\"Data\")\n",
    "plt.plot(x, safe_log(safe_log(1/g(a, b, k, x))), label=\"Gompertz\")\n",
    "plt.plot(x, safe_log(safe_log(1/sigmoid(x, a))), label=\"Logistic\")\n",
    "# plt.plot(x, safe_log(safe_log(1/th_sigmoid(x, x0=0.001, th=1.71))), label=\"Theta-Sigmoid\")\n",
    "plt.legend()\n",
    "plt.ylabel(\"Log[-Log[Deaths]]\")\n",
    "plt.xlabel(\"Time [days]\")\n",
    "plt.title(\"Straight Line Gompertz Fit to Conceptual Data\")\n",
    "plt.savefig(\"../figures/Gompertz_concept.pdf\")"
   ]
  },
  {
   "cell_type": "code",
   "execution_count": null,
   "id": "a3e66f1f",
   "metadata": {},
   "outputs": [],
   "source": [
    "y = np.random.standard_normal(10000)"
   ]
  },
  {
   "cell_type": "code",
   "execution_count": null,
   "id": "30860eae",
   "metadata": {},
   "outputs": [],
   "source": [
    "s = x / np.max(x)\n",
    "plt.plot(s, -np.log(s) - 1)\n",
    "plt.plot(s, 200 * (1 - np.exp(-.02 * x)) / x)"
   ]
  },
  {
   "cell_type": "code",
   "execution_count": null,
   "id": "52c2735c",
   "metadata": {},
   "outputs": [],
   "source": [
    "plt.plot(s, -2*s*np.log(s))\n",
    "plt.plot(s, 1 - s - np.exp(-12*s))"
   ]
  },
  {
   "cell_type": "code",
   "execution_count": null,
   "id": "5cf87cfa",
   "metadata": {},
   "outputs": [],
   "source": []
  }
 ],
 "metadata": {
  "kernelspec": {
   "display_name": "Python 3",
   "language": "python",
   "name": "python3"
  },
  "language_info": {
   "codemirror_mode": {
    "name": "ipython",
    "version": 3
   },
   "file_extension": ".py",
   "mimetype": "text/x-python",
   "name": "python",
   "nbconvert_exporter": "python",
   "pygments_lexer": "ipython3",
   "version": "3.9.4"
  }
 },
 "nbformat": 4,
 "nbformat_minor": 5
}
